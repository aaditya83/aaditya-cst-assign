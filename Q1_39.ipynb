{
  "nbformat": 4,
  "nbformat_minor": 0,
  "metadata": {
    "colab": {
      "provenance": [],
      "authorship_tag": "ABX9TyPLmd6tWm6PeOdYi1MO0Pau",
      "include_colab_link": true
    },
    "kernelspec": {
      "name": "python3",
      "display_name": "Python 3"
    },
    "language_info": {
      "name": "python"
    }
  },
  "cells": [
    {
      "cell_type": "markdown",
      "metadata": {
        "id": "view-in-github",
        "colab_type": "text"
      },
      "source": [
        "<a href=\"https://colab.research.google.com/github/aaditya83/aaditya-cst-assign/blob/main/Q1_39.ipynb\" target=\"_parent\"><img src=\"https://colab.research.google.com/assets/colab-badge.svg\" alt=\"Open In Colab\"/></a>"
      ]
    },
    {
      "cell_type": "code",
      "execution_count": null,
      "metadata": {
        "colab": {
          "base_uri": "https://localhost:8080/"
        },
        "id": "l_9GYtG5GHuI",
        "outputId": "9a367f0f-83e8-4045-e295-c99c4d6a11de"
      },
      "outputs": [
        {
          "output_type": "stream",
          "name": "stdout",
          "text": [
            "Enter the radius of the circle: 34\n",
            "The area of the circle is: 3631.681107549801\n"
          ]
        }
      ],
      "source": [
        "\n",
        "#1. Write a Python program to calculate the area of a circle given its radius.\n",
        "\n",
        "import math\n",
        "\n",
        "def circle_area(radius):\n",
        "    return math.pi * radius**2\n",
        "\n",
        "radius = float(input(\"Enter the radius of the circle: \"))\n",
        "area = circle_area(radius)\n",
        "print(\"The area of the circle is:\", area)"
      ]
    },
    {
      "cell_type": "code",
      "source": [
        "#2. Create a program that takes user input for a temperature in Celsius and converts it to Fahrenheit.\n",
        "\n",
        "def celsius_to_fahrenheit(celsius):\n",
        "    fahrenheit = (celsius * 9/5) + 32\n",
        "    return fahrenheit\n",
        "\n",
        "celsius = float(input(\"Enter temperature in Celsius: \"))\n",
        "fahrenheit = celsius_to_fahrenheit(celsius)\n",
        "print(f\"{celsius} degrees Celsius is {fahrenheit} degrees Fahrenheit.\")"
      ],
      "metadata": {
        "colab": {
          "base_uri": "https://localhost:8080/"
        },
        "id": "pLShj4x9Gx_a",
        "outputId": "58c3193c-ebeb-4357-9b1e-7c2577517546"
      },
      "execution_count": null,
      "outputs": [
        {
          "output_type": "stream",
          "name": "stdout",
          "text": [
            "Enter temperature in Celsius: 344\n",
            "344.0 degrees Celsius is 651.2 degrees Fahrenheit.\n"
          ]
        }
      ]
    },
    {
      "cell_type": "code",
      "source": [
        "#3. Implement a calculator that performs basic arithmetic operations (addition, subtraction, multiplication, division) based on user input.\n",
        "\n",
        "def add(x, y):\n",
        "    return x + y\n",
        "\n",
        "def subtract(x, y):\n",
        "    return x - y\n",
        "\n",
        "def multiply(x, y):\n",
        "    return x * y\n",
        "\n",
        "def divide(x, y):\n",
        "    if y == 0:\n",
        "        return \"Error: Division by zero\"\n",
        "    return x / y\n",
        "\n",
        "print(\"Select operation:\")\n",
        "print(\"1.Add\")\n",
        "print(\"2.Subtract\")\n",
        "print(\"3.Multiply\")\n",
        "print(\"4.Divide\")\n",
        "\n",
        "choice = input(\"Enter choice(1/2/3/4):\")\n",
        "\n",
        "num1 = float(input(\"Enter first number: \"))\n",
        "num2 = float(input(\"Enter second number: \"))\n",
        "\n",
        "if choice == '1':\n",
        "   print(num1,\"+\",num2,\"=\", add(num1,num2))\n",
        "\n",
        "elif choice == '2':\n",
        "   print(num1,\"-\",num2,\"=\", subtract(num1,num2))\n",
        "\n",
        "elif choice == '3':\n",
        "   print(num1,\"*\",num2,\"=\", multiply(num1,num2))\n",
        "\n",
        "elif choice == '4':\n",
        "   print(num1,\"/\",num2,\"=\", divide(num1,num2))\n",
        "else:\n",
        "   print(\"Invalid input\")"
      ],
      "metadata": {
        "colab": {
          "base_uri": "https://localhost:8080/"
        },
        "id": "xDrj_VuNHAEW",
        "outputId": "028a4e64-a50b-419c-a271-9553aa4b402e"
      },
      "execution_count": null,
      "outputs": [
        {
          "output_type": "stream",
          "name": "stdout",
          "text": [
            "Select operation:\n",
            "1.Add\n",
            "2.Subtract\n",
            "3.Multiply\n",
            "4.Divide\n",
            "Enter choice(1/2/3/4):1\n",
            "Enter first number: 34\n",
            "Enter second number: 23\n",
            "34.0 + 23.0 = 57.0\n"
          ]
        }
      ]
    },
    {
      "cell_type": "code",
      "source": [
        "#4. Write a program that checks if a number is even or odd.\n",
        "\n",
        "def is_even(number):\n",
        "    return number % 2 == 0\n",
        "\n",
        "number = int(input(\"Enter a number: \"))\n",
        "\n",
        "if is_even(number):\n",
        "    print(number, \"is even\")\n",
        "else:\n",
        "    print(number, \"is odd\")"
      ],
      "metadata": {
        "colab": {
          "base_uri": "https://localhost:8080/"
        },
        "id": "EPBYhmRDHTSA",
        "outputId": "9b24cb13-b00e-48b7-cc72-784e5b0cba10"
      },
      "execution_count": null,
      "outputs": [
        {
          "output_type": "stream",
          "name": "stdout",
          "text": [
            "Enter a number: 4\n",
            "4 is even\n"
          ]
        }
      ]
    },
    {
      "cell_type": "code",
      "source": [
        "#5.  Develop a function that takes a string as input and returns the string reversed.\n",
        "\n",
        "def reverse_string(string):\n",
        "    return string[::-1]\n",
        "\n",
        "string = input(\"Enter a string: \")\n",
        "reversed_string = reverse_string(string)\n",
        "print(\"Reversed string:\", reversed_string)"
      ],
      "metadata": {
        "colab": {
          "base_uri": "https://localhost:8080/"
        },
        "id": "99wVzYsmHmHr",
        "outputId": "c0908329-d582-4a1d-efec-7d1fa81e1a97"
      },
      "execution_count": null,
      "outputs": [
        {
          "output_type": "stream",
          "name": "stdout",
          "text": [
            "Enter a string: Reder\n",
            "Reversed string: redeR\n"
          ]
        }
      ]
    },
    {
      "cell_type": "code",
      "source": [
        "#6. Create a program that asks the user for their age and prints whether they are a minor, adult, or senior.\n",
        "\n",
        "age = int(input(\"Enter your age: \"))\n",
        "\n",
        "if age < 18:\n",
        "    print(\"You are a minor.\")\n",
        "elif age >= 18 and age < 65:\n",
        "    print(\"You are an adult.\")\n",
        "else:\n",
        "    print(\"You are a senior.\")"
      ],
      "metadata": {
        "colab": {
          "base_uri": "https://localhost:8080/"
        },
        "id": "DMMqKHZWH16U",
        "outputId": "9d436b58-705a-4813-ba18-8ad27d777988"
      },
      "execution_count": null,
      "outputs": [
        {
          "output_type": "stream",
          "name": "stdout",
          "text": [
            "Enter your age: 17\n",
            "You are a minor.\n"
          ]
        }
      ]
    },
    {
      "cell_type": "code",
      "source": [
        "#7. Write a program that evaluates three numbers and prints the largest one.\n",
        "\n",
        "def find_largest(num1, num2, num3):\n",
        "    largest = max(num1, num2, num3)\n",
        "    return largest\n",
        "\n",
        "num1 = int(input(\"Enter the first number: \"))\n",
        "num2 = int(input(\"Enter the second number: \"))\n",
        "num3 = int(input(\"Enter the third number: \"))\n",
        "\n",
        "largest_number = find_largest(num1, num2, num3)\n",
        "print(\"The largest number is:\", largest_number)"
      ],
      "metadata": {
        "colab": {
          "base_uri": "https://localhost:8080/"
        },
        "id": "KLp-LIOaH--k",
        "outputId": "6ab2a4af-3775-457e-9b2f-8e955752cc81"
      },
      "execution_count": null,
      "outputs": [
        {
          "output_type": "stream",
          "name": "stdout",
          "text": [
            "Enter the first number: 23\n",
            "Enter the second number: 12\n",
            "Enter the third number: 24\n",
            "The largest number is: 24\n"
          ]
        }
      ]
    },
    {
      "cell_type": "code",
      "source": [
        "#8. Implement a program that gives feedback based on a user's score (A, B, C, D, F).\n",
        "\n",
        "def grade_evaluation(score):\n",
        "    if score >= 90:\n",
        "        return \"A\"\n",
        "    elif score >= 80:\n",
        "        return \"B\"\n",
        "    elif score >= 70:\n",
        "        return \"C\"\n",
        "    elif score >= 60:\n",
        "        return \"D\"\n",
        "    else:\n",
        "        return \"F\"\n",
        "\n",
        "score = int(input(\"Enter your score: \"))\n",
        "grade = grade_evaluation(score)\n",
        "print(\"Your grade is:\", grade)"
      ],
      "metadata": {
        "colab": {
          "base_uri": "https://localhost:8080/"
        },
        "id": "uIjhleB8IMT5",
        "outputId": "9ad3aac8-2d38-4b52-dedc-600773a10348"
      },
      "execution_count": null,
      "outputs": [
        {
          "output_type": "stream",
          "name": "stdout",
          "text": [
            "Enter your score: 80\n",
            "Your grade is: B\n"
          ]
        }
      ]
    },
    {
      "cell_type": "code",
      "source": [
        "#9. Write a program to check if a year is a leap year.\n",
        "\n",
        "def is_leap_year(year):\n",
        "    if year % 4 == 0:\n",
        "        if year % 100 == 0:\n",
        "            if year % 400 == 0:\n",
        "                return True\n",
        "            else:\n",
        "                return False\n",
        "        else:\n",
        "            return True\n",
        "    else:\n",
        "        return False\n",
        "\n",
        "year = int(input(\"Enter a year: \"))\n",
        "if is_leap_year(year):\n",
        "    print(year, \"is a leap year\")\n",
        "else:\n",
        "    print(year, \"is not a leap year\")"
      ],
      "metadata": {
        "colab": {
          "base_uri": "https://localhost:8080/"
        },
        "id": "WzG1KhoRIhMz",
        "outputId": "d6350450-2df2-4945-d598-793b3b420dbd"
      },
      "execution_count": null,
      "outputs": [
        {
          "output_type": "stream",
          "name": "stdout",
          "text": [
            "Enter a year: 2024\n",
            "2024 is a leap year\n"
          ]
        }
      ]
    },
    {
      "cell_type": "code",
      "source": [
        "#10.    Develop a simple login system that checks a username and password.\n",
        "\n",
        "def login(username, password):\n",
        "    if username == \"user\" and password == \"password\":\n",
        "        print(\"Login successful!\")\n",
        "    else:\n",
        "        print(\"Login failed. Incorrect username or password.\")\n",
        "\n",
        "username = input(\"Enter your username: \")\n",
        "password = input(\"Enter your password: \")\n",
        "\n",
        "login(username, password)"
      ],
      "metadata": {
        "colab": {
          "base_uri": "https://localhost:8080/"
        },
        "id": "JUTH2tqxIw88",
        "outputId": "e3d4e4fa-e3fb-422f-b853-b49a47a4f6b2"
      },
      "execution_count": null,
      "outputs": [
        {
          "output_type": "stream",
          "name": "stdout",
          "text": [
            "Enter your username: Red\n",
            "Enter your password: Ret\n",
            "Login failed. Incorrect username or password.\n"
          ]
        }
      ]
    },
    {
      "cell_type": "code",
      "source": [
        "#11.    Write a Python program that counts the number of vowels in a given string.\n",
        "\n",
        "def count_vowels(string):\n",
        "    vowels = \"aeiouAEIOU\"\n",
        "    count = 0\n",
        "    for char in string:\n",
        "        if char in vowels:\n",
        "            count += 1\n",
        "    return count\n",
        "\n",
        "string = input(\"Enter a string: \")\n",
        "vowel_count = count_vowels(string)\n",
        "print(\"Number of vowels:\", vowel_count)"
      ],
      "metadata": {
        "colab": {
          "base_uri": "https://localhost:8080/"
        },
        "id": "QE0QMHcfJAc7",
        "outputId": "9ca0c197-9af3-4929-8f64-11aeff3eea05"
      },
      "execution_count": null,
      "outputs": [
        {
          "output_type": "stream",
          "name": "stdout",
          "text": [
            "Enter a string: Red\n",
            "Number of vowels: 1\n"
          ]
        }
      ]
    },
    {
      "cell_type": "code",
      "source": [
        "#12.\tCreate a function that removes all whitespace from a user-inputted string\n",
        "\n",
        "def remove_whitespace():\n",
        "    user_input = input(\"Enter a string: \")\n",
        "    result = ''.join(user_input.split())\n",
        "    print(f\"String without whitespace: {result}\")\n",
        "    return result\n",
        "\n",
        "remove_whitespace()"
      ],
      "metadata": {
        "colab": {
          "base_uri": "https://localhost:8080/",
          "height": 70
        },
        "id": "F0DABuxiY2rJ",
        "outputId": "f006e7f2-5968-4c09-975c-ba0a9abe8013"
      },
      "execution_count": 1,
      "outputs": [
        {
          "output_type": "stream",
          "name": "stdout",
          "text": [
            "Enter a string: re op\n",
            "String without whitespace: reop\n"
          ]
        },
        {
          "output_type": "execute_result",
          "data": {
            "text/plain": [
              "'reop'"
            ],
            "application/vnd.google.colaboratory.intrinsic+json": {
              "type": "string"
            }
          },
          "metadata": {},
          "execution_count": 1
        }
      ]
    },
    {
      "cell_type": "code",
      "source": [
        "#13.\tImplement a program to check if two strings are anagrams of each other.\n",
        "\n",
        "def are_anagrams(str1, str2):\n",
        "\n",
        "    str1 = ''.join(str1.split()).lower()\n",
        "    str2 = ''.join(str2.split()).lower()\n",
        "\n",
        "    return sorted(str1) == sorted(str2)\n",
        "\n",
        "string1 = input(\"Enter the first string: \")\n",
        "string2 = input(\"Enter the second string: \")\n",
        "\n",
        "if are_anagrams(string1, string2):\n",
        "    print(\"The strings are anagrams of each other.\")\n",
        "else:\n",
        "    print(\"The strings are not anagrams of each other.\")\n"
      ],
      "metadata": {
        "colab": {
          "base_uri": "https://localhost:8080/"
        },
        "id": "QMlOP6jSZlwa",
        "outputId": "4893ef15-5a38-45c8-c57d-434fcdcde4ab"
      },
      "execution_count": 2,
      "outputs": [
        {
          "output_type": "stream",
          "name": "stdout",
          "text": [
            "Enter the first string: lead\n",
            "Enter the second string: led\n",
            "The strings are not anagrams of each other.\n"
          ]
        }
      ]
    },
    {
      "cell_type": "code",
      "source": [
        "#14.\tWrite a program to count the frequency of words in a given sentence.\n",
        "\n",
        "def word_frequency(sentence):\n",
        "\n",
        "    words = sentence.lower().split()\n",
        "\n",
        "\n",
        "    frequency = {}\n",
        "    for word in words:\n",
        "        word = word.strip(\",.?!:;\\\"'\")\n",
        "        frequency[word] = frequency.get(word, 0) + 1\n",
        "\n",
        "    return frequency\n",
        "\n",
        "sentence = input(\"Enter a sentence: \")\n",
        "frequencies = word_frequency(sentence)\n",
        "\n",
        "print(\"Word frequencies:\")\n",
        "for word, count in frequencies.items():\n",
        "    print(f\"{word}: {count}\")\n"
      ],
      "metadata": {
        "colab": {
          "base_uri": "https://localhost:8080/"
        },
        "id": "09Ws3uikZ7yq",
        "outputId": "056a5c0c-4022-49fe-e9ee-7eeae62bad8c"
      },
      "execution_count": 3,
      "outputs": [
        {
          "output_type": "stream",
          "name": "stdout",
          "text": [
            "Enter a sentence: ret\n",
            "Word frequencies:\n",
            "ret: 1\n"
          ]
        }
      ]
    },
    {
      "cell_type": "code",
      "source": [
        "#15.\tCreate a function that replaces every occurrence of a substring with another substring in a string.\n",
        "\n",
        "def replace_substring(original_string, old_substring, new_substring):\n",
        "    result = original_string.replace(old_substring, new_substring)\n",
        "    return result\n",
        "\n",
        "original = input(\"Enter the original string: \")\n",
        "old = input(\"Enter the substring to replace: \")\n",
        "new = input(\"Enter the new substring: \")\n",
        "\n",
        "modified_string = replace_substring(original, old, new)\n",
        "print(f\"Modified string: {modified_string}\")\n"
      ],
      "metadata": {
        "colab": {
          "base_uri": "https://localhost:8080/"
        },
        "id": "lEy4kMwNaQH9",
        "outputId": "c12f738d-73bc-4d61-a400-3ebc268405ee"
      },
      "execution_count": 4,
      "outputs": [
        {
          "output_type": "stream",
          "name": "stdout",
          "text": [
            "Enter the original string: tear\n",
            "Enter the substring to replace: tea\n",
            "Enter the new substring: tent\n",
            "Modified string: tentr\n"
          ]
        }
      ]
    },
    {
      "cell_type": "code",
      "source": [
        "#16.\tWrite a program that generates the first 10 Fibonacci numbers using iteration.\n",
        "\n",
        "def generate_fibonacci(n):\n",
        "    fib_sequence = []\n",
        "    a, b = 0, 1\n",
        "    for _ in range(n):\n",
        "        fib_sequence.append(a)\n",
        "        a, b = b, a + b\n",
        "    return fib_sequence\n",
        "\n",
        "print(generate_fibonacci(10))\n"
      ],
      "metadata": {
        "colab": {
          "base_uri": "https://localhost:8080/"
        },
        "id": "G0IHq7lxasVq",
        "outputId": "1a39ac0d-e618-46b9-d104-511cb41d41c3"
      },
      "execution_count": 5,
      "outputs": [
        {
          "output_type": "stream",
          "name": "stdout",
          "text": [
            "[0, 1, 1, 2, 3, 5, 8, 13, 21, 34]\n"
          ]
        }
      ]
    },
    {
      "cell_type": "code",
      "source": [
        "#17.\tCreate a program that sums all even numbers from 1 to 100.\n",
        "\n",
        "def sum_even_numbers():\n",
        "    sum = 0\n",
        "    for num in range(2, 101, 2):\n",
        "        sum += num\n",
        "    return sum\n",
        "\n",
        "print(sum_even_numbers())"
      ],
      "metadata": {
        "colab": {
          "base_uri": "https://localhost:8080/"
        },
        "id": "Owp0K2Tva0yq",
        "outputId": "4906288b-dda9-4aee-d08a-ffe3af5b4567"
      },
      "execution_count": 6,
      "outputs": [
        {
          "output_type": "stream",
          "name": "stdout",
          "text": [
            "2550\n"
          ]
        }
      ]
    },
    {
      "cell_type": "code",
      "source": [
        "#18.\tWrite a Python script that prints the multiplication table of a user-defined number.\n",
        "\n",
        "def multiplication_table(number):\n",
        "    for i in range(1, 11):\n",
        "        print(f\"{number} x {i} = {number * i}\")\n",
        "\n",
        "number = int(input(\"Enter a number: \"))\n",
        "multiplication_table(number)"
      ],
      "metadata": {
        "colab": {
          "base_uri": "https://localhost:8080/"
        },
        "id": "Fc42gkdla9-y",
        "outputId": "67809af5-91f3-44ef-83e4-b06fab4bc4c2"
      },
      "execution_count": 7,
      "outputs": [
        {
          "output_type": "stream",
          "name": "stdout",
          "text": [
            "Enter a number: 34\n",
            "34 x 1 = 34\n",
            "34 x 2 = 68\n",
            "34 x 3 = 102\n",
            "34 x 4 = 136\n",
            "34 x 5 = 170\n",
            "34 x 6 = 204\n",
            "34 x 7 = 238\n",
            "34 x 8 = 272\n",
            "34 x 9 = 306\n",
            "34 x 10 = 340\n"
          ]
        }
      ]
    },
    {
      "cell_type": "code",
      "source": [
        "#19.\tDevelop a program that calculates the factorial of a number using a loop.\n",
        "\n",
        "def factorial(n):\n",
        "    result = 1\n",
        "    for i in range(1, n + 1):\n",
        "        result *= i\n",
        "    return result\n",
        "\n",
        "number = int(input(\"Enter a number: \"))\n",
        "print(f\"The factorial of {number} is {factorial(number)}.\")\n"
      ],
      "metadata": {
        "colab": {
          "base_uri": "https://localhost:8080/"
        },
        "id": "rEkuoaepbFoD",
        "outputId": "5da64460-f4d0-400f-883d-668a4fcca063"
      },
      "execution_count": 8,
      "outputs": [
        {
          "output_type": "stream",
          "name": "stdout",
          "text": [
            "Enter a number: 11\n",
            "The factorial of 11 is 39916800.\n"
          ]
        }
      ]
    },
    {
      "cell_type": "code",
      "source": [
        "#20.\tCreate a function that lists all prime numbers up to a specified limit.\n",
        "\n",
        "def list_primes(limit):\n",
        "    primes = []\n",
        "    for num in range(2, limit + 1):\n",
        "        is_prime = True\n",
        "        for i in range(2, int(num ** 0.5) + 1):\n",
        "            if num % i == 0:\n",
        "                is_prime = False\n",
        "                break\n",
        "        if is_prime:\n",
        "            primes.append(num)\n",
        "    return primes\n",
        "\n",
        "limit = int(input(\"Enter the limit: \"))\n",
        "print(f\"Prime numbers up to {limit}: {list_primes(limit)}\")\n"
      ],
      "metadata": {
        "colab": {
          "base_uri": "https://localhost:8080/"
        },
        "id": "JJUDr9ikbSe7",
        "outputId": "591429b3-c298-4b46-c860-28dde398aae3"
      },
      "execution_count": 9,
      "outputs": [
        {
          "output_type": "stream",
          "name": "stdout",
          "text": [
            "Enter the limit: 100\n",
            "Prime numbers up to 100: [2, 3, 5, 7, 11, 13, 17, 19, 23, 29, 31, 37, 41, 43, 47, 53, 59, 61, 67, 71, 73, 79, 83, 89, 97]\n"
          ]
        }
      ]
    },
    {
      "cell_type": "code",
      "source": [
        "#21.\tWrite a function that calculates the greatest common divisor (GCD) of two numbers\n",
        "\n",
        "def gcd(a, b):\n",
        "    while b:\n",
        "        a, b = b, a % b\n",
        "    return a\n",
        "\n",
        "num1 = int(input(\"Enter the first number: \"))\n",
        "num2 = int(input(\"Enter the second number: \"))\n",
        "print(f\"The GCD of {num1} and {num2} is {gcd(num1, num2)}.\")\n"
      ],
      "metadata": {
        "colab": {
          "base_uri": "https://localhost:8080/"
        },
        "id": "izKLFnbWbdix",
        "outputId": "9c81ca02-6b74-4a1e-ce48-bd191179a463"
      },
      "execution_count": 10,
      "outputs": [
        {
          "output_type": "stream",
          "name": "stdout",
          "text": [
            "Enter the first number: 12\n",
            "Enter the second number: 20\n",
            "The GCD of 12 and 20 is 4.\n"
          ]
        }
      ]
    },
    {
      "cell_type": "code",
      "source": [
        "#22.\tCreate a Python function that takes a list of numbers and returns the largest number.\n",
        "\n",
        "def find_largest(numbers):\n",
        "    return max(numbers)\n",
        "\n",
        "numbers = list(map(int, input(\"Enter numbers separated by spaces: \").split()))\n",
        "print(f\"The largest number is {find_largest(numbers)}.\")\n"
      ],
      "metadata": {
        "colab": {
          "base_uri": "https://localhost:8080/"
        },
        "id": "orSasx4Abl8i",
        "outputId": "273a700b-5374-4bcd-a300-e167527ead61"
      },
      "execution_count": 12,
      "outputs": [
        {
          "output_type": "stream",
          "name": "stdout",
          "text": [
            "Enter numbers separated by spaces: 12 34 6 7 7443 4\n",
            "The largest number is 7443.\n"
          ]
        }
      ]
    },
    {
      "cell_type": "code",
      "source": [
        "#23.\tImplement a function for finding the factorial of a number using recursion.\n",
        "\n",
        "def factorial(n):\n",
        "    if n == 0 or n == 1:\n",
        "        return 1\n",
        "    return n * factorial(n - 1)\n",
        "\n",
        "number = int(input(\"Enter a number: \"))\n",
        "print(f\"The factorial of {number} is {factorial(number)}.\")\n"
      ],
      "metadata": {
        "colab": {
          "base_uri": "https://localhost:8080/"
        },
        "id": "Q8xSN7OGbynh",
        "outputId": "a300c251-08f1-476b-caa2-3932219b334f"
      },
      "execution_count": 13,
      "outputs": [
        {
          "output_type": "stream",
          "name": "stdout",
          "text": [
            "Enter a number: 10\n",
            "The factorial of 10 is 3628800.\n"
          ]
        }
      ]
    },
    {
      "cell_type": "code",
      "source": [
        "#24.\tWrite a program that utilizes global variables and demonstrates their use in functions.\n",
        "\n",
        "global_variable = 10\n",
        "\n",
        "def modify_global_variable():\n",
        "    global global_variable\n",
        "    global_variable = 20\n",
        "\n",
        "modify_global_variable()\n",
        "print(global_variable)"
      ],
      "metadata": {
        "colab": {
          "base_uri": "https://localhost:8080/"
        },
        "id": "x40lsi1Vb6XR",
        "outputId": "c0eab97e-5b23-4f41-a2cb-89734777b71b"
      },
      "execution_count": 14,
      "outputs": [
        {
          "output_type": "stream",
          "name": "stdout",
          "text": [
            "20\n"
          ]
        }
      ]
    },
    {
      "cell_type": "code",
      "source": [
        "#25.\tDevelop a module that contains utility functions for string manipulations.\n",
        "\n",
        "def remove_whitespace(s):\n",
        "    return ''.join(s.split())\n",
        "\n",
        "def is_palindrome(s):\n",
        "    return s == s[::-1]\n",
        "\n",
        "def count_vowels(s):\n",
        "    return sum(1 for char in s.lower() if char in 'aeiou')\n",
        "\n",
        "def reverse_string(s):\n",
        "    return s[::-1]\n",
        "\n",
        "def to_uppercase(s):\n",
        "    return s.upper()\n",
        "\n",
        "def to_lowercase(s):\n",
        "    return s.lower()\n",
        "\n",
        "string = input(\"Enter a string: \")\n",
        "\n",
        "print(f\"String without whitespace: {remove_whitespace(string)}\")\n",
        "print(f\"Is the string a palindrome? {is_palindrome(string)}\")\n",
        "print(f\"Number of vowels: {count_vowels(string)}\")\n",
        "print(f\"Reversed string: {reverse_string(string)}\")\n",
        "print(f\"Uppercase: {to_uppercase(string)}\")\n",
        "print(f\"Lowercase: {to_lowercase(string)}\")\n"
      ],
      "metadata": {
        "colab": {
          "base_uri": "https://localhost:8080/"
        },
        "id": "VC6exYTrb_UJ",
        "outputId": "9d24c970-66fb-4933-f927-6667e261b471"
      },
      "execution_count": 16,
      "outputs": [
        {
          "output_type": "stream",
          "name": "stdout",
          "text": [
            "Enter a string: student\n",
            "String without whitespace: student\n",
            "Is the string a palindrome? False\n",
            "Number of vowels: 2\n",
            "Reversed string: tneduts\n",
            "Uppercase: STUDENT\n",
            "Lowercase: student\n"
          ]
        }
      ]
    },
    {
      "cell_type": "code",
      "source": [
        "#26.\tWrite a simple testing script that verifies the functionality of your calculator from a previous assignment.\n",
        "\n",
        "def add(a, b):\n",
        "    return a + b\n",
        "\n",
        "def subtract(a, b):\n",
        "    return a - b\n",
        "\n",
        "def multiply(a, b):\n",
        "    return a * b\n",
        "\n",
        "def divide(a, b):\n",
        "    if b == 0:\n",
        "        raise ZeroDivisionError(\"Cannot divide by zero\")\n",
        "    return a / b\n",
        "\n",
        "def test_addition():\n",
        "    assert add(2, 3) == 5\n",
        "    assert add(-1, 1) == 0\n",
        "    assert add(0, 0) == 0\n",
        "\n",
        "def test_subtraction():\n",
        "    assert subtract(5, 3) == 2\n",
        "    assert subtract(3, 5) == -2\n",
        "    assert subtract(0, 0) == 0\n",
        "\n",
        "def test_multiplication():\n",
        "    assert multiply(2, 3) == 6\n",
        "    assert multiply(-1, 5) == -5\n",
        "    assert multiply(0, 10) == 0\n",
        "\n",
        "def test_division():\n",
        "    assert divide(6, 3) == 2\n",
        "    assert divide(5, 2) == 2.5\n",
        "    try:\n",
        "        divide(5, 0)\n",
        "    except ZeroDivisionError:\n",
        "        pass\n",
        "\n",
        "def run_tests():\n",
        "    test_addition()\n",
        "    test_subtraction()\n",
        "    test_multiplication()\n",
        "    test_division()\n",
        "    print(\"All tests passed!\")\n",
        "\n",
        "run_tests()\n"
      ],
      "metadata": {
        "colab": {
          "base_uri": "https://localhost:8080/"
        },
        "id": "aQB8GG-qcp8j",
        "outputId": "3b87f0f9-cf94-4db6-b8a0-b24314cdb697"
      },
      "execution_count": 17,
      "outputs": [
        {
          "output_type": "stream",
          "name": "stdout",
          "text": [
            "All tests passed!\n"
          ]
        }
      ]
    },
    {
      "cell_type": "code",
      "source": [
        "#27.\tCreate a program that includes debugging statements to show the flow of execution.\n",
        "\n",
        "def add(a, b):\n",
        "    print(f\"Entering add function with a={a}, b={b}\")\n",
        "    result = a + b\n",
        "    print(f\"Result of addition: {result}\")\n",
        "    return result\n",
        "\n",
        "def subtract(a, b):\n",
        "    print(f\"Entering subtract function with a={a}, b={b}\")\n",
        "    result = a - b\n",
        "    print(f\"Result of subtraction: {result}\")\n",
        "    return result\n",
        "\n",
        "def multiply(a, b):\n",
        "    print(f\"Entering multiply function with a={a}, b={b}\")\n",
        "    result = a * b\n",
        "    print(f\"Result of multiplication: {result}\")\n",
        "    return result\n",
        "\n",
        "def divide(a, b):\n",
        "    print(f\"Entering divide function with a={a}, b={b}\")\n",
        "    if b == 0:\n",
        "        print(\"Error: Cannot divide by zero\")\n",
        "        raise ZeroDivisionError(\"Cannot divide by zero\")\n",
        "    result = a / b\n",
        "    print(f\"Result of division: {result}\")\n",
        "    return result\n",
        "\n",
        "def run_operations():\n",
        "    print(\"Starting operations...\")\n",
        "\n",
        "    add_result = add(10, 5)\n",
        "    subtract_result = subtract(add_result, 3)\n",
        "    multiply_result = multiply(subtract_result, 2)\n",
        "    divide_result = divide(multiply_result, 5)\n",
        "\n",
        "    print(f\"Final result: {divide_result}\")\n",
        "    print(\"Operations complete.\")\n",
        "\n",
        "run_operations()\n"
      ],
      "metadata": {
        "colab": {
          "base_uri": "https://localhost:8080/"
        },
        "id": "yjtNmn_gc6yp",
        "outputId": "f85f0a04-8255-487d-e7b8-eb384be030e2"
      },
      "execution_count": 18,
      "outputs": [
        {
          "output_type": "stream",
          "name": "stdout",
          "text": [
            "Starting operations...\n",
            "Entering add function with a=10, b=5\n",
            "Result of addition: 15\n",
            "Entering subtract function with a=15, b=3\n",
            "Result of subtraction: 12\n",
            "Entering multiply function with a=12, b=2\n",
            "Result of multiplication: 24\n",
            "Entering divide function with a=24, b=5\n",
            "Result of division: 4.8\n",
            "Final result: 4.8\n",
            "Operations complete.\n"
          ]
        }
      ]
    },
    {
      "cell_type": "code",
      "source": [
        "#28.\tImplement a function and write unit tests to confirm its correctness using assertions.\n",
        "def square(number):\n",
        "    return number ** 2\n",
        "\n",
        "def test_square():\n",
        "    assert square(2) == 4, \"Test Case 1 Failed\"\n",
        "    assert square(-3) == 9, \"Test Case 2 Failed\"\n",
        "    assert square(0) == 0, \"Test Case 3 Failed\"\n",
        "    assert square(5) == 25, \"Test Case 4 Failed\"\n",
        "    print(\"All test cases passed!\")\n",
        "\n",
        "test_square()\n"
      ],
      "metadata": {
        "colab": {
          "base_uri": "https://localhost:8080/"
        },
        "id": "1NUGQ2vmdK9q",
        "outputId": "656e6886-91e7-4b8e-bcae-fe5a142a6fa1"
      },
      "execution_count": 19,
      "outputs": [
        {
          "output_type": "stream",
          "name": "stdout",
          "text": [
            "All test cases passed!\n"
          ]
        }
      ]
    },
    {
      "cell_type": "code",
      "source": [
        "#29.\tWrite a program that intentionally has a bug, and then demonstrate how to fix it.\n",
        "\n",
        "def divide(a, b):\n",
        "    try:\n",
        "        print(f\"Dividing {a} by {b}\")\n",
        "        result = a / b\n",
        "        print(f\"Result: {result}\")\n",
        "    except ZeroDivisionError:\n",
        "        print(\"Error: Cannot divide by zero!\")\n",
        "\n",
        "num1 = 10\n",
        "num2 = 0\n",
        "divide(num1, num2)\n"
      ],
      "metadata": {
        "colab": {
          "base_uri": "https://localhost:8080/"
        },
        "id": "7LNyQkuidVAp",
        "outputId": "e5ba71db-5b97-4935-955d-7e1f0e58df01"
      },
      "execution_count": 20,
      "outputs": [
        {
          "output_type": "stream",
          "name": "stdout",
          "text": [
            "Dividing 10 by 0\n",
            "Error: Cannot divide by zero!\n"
          ]
        }
      ]
    },
    {
      "cell_type": "code",
      "source": [
        "#30.\tCreate a logging system that tracks function calls and their parameters.\n",
        "\n",
        "import logging\n",
        "\n",
        "logging.basicConfig(filename='function_calls.log', level=logging.INFO, format='%(asctime)s - %(message)s')\n",
        "\n",
        "def log_function_call(func):\n",
        "    def wrapper(*args, **kwargs):\n",
        "        logging.info(f\"Function '{func.__name__}' called with arguments: {args} and keyword arguments: {kwargs}\")\n",
        "        result = func(*args, **kwargs)\n",
        "        logging.info(f\"Function '{func.__name__}' returned: {result}\")\n",
        "        return result\n",
        "    return wrapper\n",
        "\n",
        "@log_function_call\n",
        "def add(a, b):\n",
        "    return a + b\n",
        "\n",
        "@log_function_call\n",
        "def multiply(a, b):\n",
        "    return a * b\n",
        "\n",
        "@log_function_call\n",
        "def greet(name, greeting=\"Hello\"):\n",
        "    return f\"{greeting}, {name}!\"\n",
        "\n",
        "add(3, 4)\n",
        "multiply(2, 5)\n",
        "greet(\"Alice\")\n"
      ],
      "metadata": {
        "colab": {
          "base_uri": "https://localhost:8080/",
          "height": 35
        },
        "id": "kdljT6iYdfJK",
        "outputId": "1ebbed79-5320-43fa-d4e7-94bb9275c55b"
      },
      "execution_count": 21,
      "outputs": [
        {
          "output_type": "execute_result",
          "data": {
            "text/plain": [
              "'Hello, Alice!'"
            ],
            "application/vnd.google.colaboratory.intrinsic+json": {
              "type": "string"
            }
          },
          "metadata": {},
          "execution_count": 21
        }
      ]
    },
    {
      "cell_type": "code",
      "source": [
        "#31.\tWrite a Python script to demonstrate the usage of tuples for storing coordinates.\n",
        "\n",
        "coordinate1 = (3, 5)\n",
        "coordinate2 = (7, 2)\n",
        "\n",
        "x1, y1 = coordinate1\n",
        "x2, y2 = coordinate2\n",
        "\n",
        "print(f\"Coordinate 1: ({x1}, {y1})\")\n",
        "print(f\"Coordinate 2: ({x2}, {y2})\")\n",
        "\n",
        "distance = ((x2 - x1)**2 + (y2 - y1)**2) ** 0.5\n",
        "print(f\"The distance between the two coordinates is: {distance}\")\n"
      ],
      "metadata": {
        "colab": {
          "base_uri": "https://localhost:8080/"
        },
        "id": "mfowqgTudol3",
        "outputId": "8e5291ff-05da-4363-b887-82734051da07"
      },
      "execution_count": 22,
      "outputs": [
        {
          "output_type": "stream",
          "name": "stdout",
          "text": [
            "Coordinate 1: (3, 5)\n",
            "Coordinate 2: (7, 2)\n",
            "The distance between the two coordinates is: 5.0\n"
          ]
        }
      ]
    },
    {
      "cell_type": "code",
      "source": [
        "#32.\tCreate a program that uses lists and demonstrates mutability by modifying the list items.\n",
        "\n",
        "numbers = [1, 2, 3, 4, 5]\n",
        "\n",
        "print(f\"Original list: {numbers}\")\n",
        "\n",
        "numbers[0] = 10\n",
        "numbers[2] = 30\n",
        "numbers.append(6)\n",
        "\n",
        "print(f\"Modified list: {numbers}\")\n"
      ],
      "metadata": {
        "id": "YLZBx9x_d5dk"
      },
      "execution_count": null,
      "outputs": []
    },
    {
      "cell_type": "code",
      "source": [
        "#33.\tImplement a higher-order function that takes another function as an argument and applies it to a list.\n",
        "\n",
        "def apply_function_to_list(func, lst):\n",
        "    return [func(x) for x in lst]\n",
        "\n",
        "def square(x):\n",
        "    return x ** 2\n",
        "\n",
        "def double(x):\n",
        "    return x * 2\n",
        "\n",
        "numbers = [1, 2, 3, 4, 5]\n",
        "\n",
        "squared_numbers = apply_function_to_list(square, numbers)\n",
        "doubled_numbers = apply_function_to_list(double, numbers)\n",
        "\n",
        "print(f\"Original numbers: {numbers}\")\n",
        "print(f\"Squared numbers: {squared_numbers}\")\n",
        "print(f\"Doubled numbers: {doubled_numbers}\")\n"
      ],
      "metadata": {
        "colab": {
          "base_uri": "https://localhost:8080/"
        },
        "id": "sCdrRSWfeE-a",
        "outputId": "6205e360-bd25-4fbc-96da-955b3b24b66c"
      },
      "execution_count": 23,
      "outputs": [
        {
          "output_type": "stream",
          "name": "stdout",
          "text": [
            "Original numbers: [1, 2, 3, 4, 5]\n",
            "Squared numbers: [1, 4, 9, 16, 25]\n",
            "Doubled numbers: [2, 4, 6, 8, 10]\n"
          ]
        }
      ]
    },
    {
      "cell_type": "code",
      "source": [
        "#34.\tWrite a program to simulate a simple inventory system using dictionaries.\n",
        "\n",
        "inventory = {\n",
        "    'apple': 10,\n",
        "    'banana': 5,\n",
        "    'orange': 8\n",
        "}\n",
        "\n",
        "def add_item(item, quantity):\n",
        "    if item in inventory:\n",
        "        inventory[item] += quantity\n",
        "    else:\n",
        "        inventory[item] = quantity\n",
        "\n",
        "def remove_item(item, quantity):\n",
        "    if item in inventory and inventory[item] >= quantity:\n",
        "        inventory[item] -= quantity\n",
        "    else:\n",
        "        print(\"Item not found or insufficient quantity.\")\n",
        "\n",
        "def display_inventory():\n",
        "    for item, quantity in inventory.items():\n",
        "        print(f\"{item}: {quantity}\")\n",
        "\n",
        "add_item('grape', 15)\n",
        "remove_item('banana', 3)\n",
        "display_inventory()\n"
      ],
      "metadata": {
        "colab": {
          "base_uri": "https://localhost:8080/"
        },
        "id": "xsv9fZ1QeVwa",
        "outputId": "067be302-8b24-428c-eed2-01ea76509fa5"
      },
      "execution_count": 25,
      "outputs": [
        {
          "output_type": "stream",
          "name": "stdout",
          "text": [
            "apple: 10\n",
            "banana: 2\n",
            "orange: 8\n",
            "grape: 15\n"
          ]
        }
      ]
    },
    {
      "cell_type": "code",
      "source": [
        "#35.\tCreate a function that sorts a list of dictionaries by a specified key.\n",
        "\n",
        "def sort_by_key(lst, key):\n",
        "    return sorted(lst, key=lambda x: x[key])\n",
        "\n",
        "data = [\n",
        "    {'name': 'Alice', 'age': 30},\n",
        "    {'name': 'Bob', 'age': 25},\n",
        "    {'name': 'Charlie', 'age': 35}\n",
        "]\n",
        "\n",
        "sorted_data = sort_by_key(data, 'age')\n",
        "print(sorted_data)\n"
      ],
      "metadata": {
        "colab": {
          "base_uri": "https://localhost:8080/"
        },
        "id": "KgMzJxRxeixK",
        "outputId": "cfc0f37e-3aa5-4943-b412-253d144c80a6"
      },
      "execution_count": 26,
      "outputs": [
        {
          "output_type": "stream",
          "name": "stdout",
          "text": [
            "[{'name': 'Bob', 'age': 25}, {'name': 'Alice', 'age': 30}, {'name': 'Charlie', 'age': 35}]\n"
          ]
        }
      ]
    },
    {
      "cell_type": "code",
      "source": [
        "#36.\tWrite a program that reads a file and handles exceptions if the file does not exist\n",
        "\n",
        "def read_file(filename):\n",
        "    try:\n",
        "        with open(filename, 'r') as file:\n",
        "            content = file.read()\n",
        "            print(content)\n",
        "    except FileNotFoundError:\n",
        "        print(f\"The file {filename} does not exist.\")\n",
        "\n",
        "filename = 'example.txt'\n",
        "read_file(filename)\n"
      ],
      "metadata": {
        "colab": {
          "base_uri": "https://localhost:8080/"
        },
        "id": "3VB0UDTjeqBT",
        "outputId": "7f7322c5-6c36-476c-e094-868eb87f3e6b"
      },
      "execution_count": 27,
      "outputs": [
        {
          "output_type": "stream",
          "name": "stdout",
          "text": [
            "The file example.txt does not exist.\n"
          ]
        }
      ]
    },
    {
      "cell_type": "code",
      "source": [
        "#37.\tCreate a function that raises an exception if the input is not a positive number.\n",
        "\n",
        "def check_positive_number(number):\n",
        "    if number <= 0:\n",
        "        raise ValueError(\"Input must be a positive number.\")\n",
        "    return number\n",
        "\n",
        "try:\n",
        "    number = float(input(\"Enter a positive number: \"))\n",
        "    check_positive_number(number)\n",
        "    print(f\"Valid input: {number}\")\n",
        "except ValueError as e:\n",
        "    print(e)\n"
      ],
      "metadata": {
        "colab": {
          "base_uri": "https://localhost:8080/"
        },
        "id": "Jk6cGjlke0db",
        "outputId": "292ac03c-4980-4fa2-8cac-487a936b66a9"
      },
      "execution_count": 29,
      "outputs": [
        {
          "output_type": "stream",
          "name": "stdout",
          "text": [
            "Enter a positive number: -34\n",
            "Input must be a positive number.\n"
          ]
        }
      ]
    },
    {
      "cell_type": "code",
      "source": [
        "#38.\tImplement a program that uses assertions to check the validity of user input\n",
        "\n",
        "def get_positive_number():\n",
        "    number = float(input(\"Enter a positive number: \"))\n",
        "    assert number > 0, \"Input must be a positive number.\"\n",
        "    return number\n",
        "\n",
        "try:\n",
        "    valid_number = get_positive_number()\n",
        "    print(f\"Valid input: {valid_number}\")\n",
        "except AssertionError as e:\n",
        "    print(e)\n"
      ],
      "metadata": {
        "colab": {
          "base_uri": "https://localhost:8080/"
        },
        "id": "Wuhftli3e-ft",
        "outputId": "9361f25a-48bf-46e4-8a21-045932ec0539"
      },
      "execution_count": 30,
      "outputs": [
        {
          "output_type": "stream",
          "name": "stdout",
          "text": [
            "Enter a positive number: -34\n",
            "Input must be a positive number.\n"
          ]
        }
      ]
    },
    {
      "cell_type": "code",
      "source": [
        "#39.\tWrite a function to demonstrate the use of try-except blocks when dividing numbers.\n",
        "\n",
        "def divide_numbers(a, b):\n",
        "    try:\n",
        "        result = a / b\n",
        "    except ZeroDivisionError:\n",
        "        return \"Error: Cannot divide by zero.\"\n",
        "    except TypeError:\n",
        "        return \"Error: Both inputs must be numbers.\"\n",
        "    else:\n",
        "        return f\"The result is: {result}\"\n",
        "\n",
        "print(divide_numbers(10, 2))\n",
        "print(divide_numbers(10, 0))\n",
        "print(divide_numbers(10, 'a'))\n"
      ],
      "metadata": {
        "colab": {
          "base_uri": "https://localhost:8080/"
        },
        "id": "vikmnttVfGei",
        "outputId": "5e8fb572-99fb-488f-a8bc-e499479fd09f"
      },
      "execution_count": 31,
      "outputs": [
        {
          "output_type": "stream",
          "name": "stdout",
          "text": [
            "The result is: 5.0\n",
            "Error: Cannot divide by zero.\n",
            "Error: Both inputs must be numbers.\n"
          ]
        }
      ]
    }
  ]
}